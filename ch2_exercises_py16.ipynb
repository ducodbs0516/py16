{
  "nbformat": 4,
  "nbformat_minor": 0,
  "metadata": {
    "colab": {
      "name": "ch2_exercises_py16.ipynb",
      "provenance": [],
      "collapsed_sections": [],
      "include_colab_link": true
    },
    "kernelspec": {
      "name": "python3",
      "display_name": "Python 3"
    }
  },
  "cells": [
    {
      "cell_type": "markdown",
      "metadata": {
        "id": "view-in-github",
        "colab_type": "text"
      },
      "source": [
        "<a href=\"https://colab.research.google.com/github/ducodbs0516/py16/blob/master/ch2_exercises_py16.ipynb\" target=\"_parent\"><img src=\"https://colab.research.google.com/assets/colab-badge.svg\" alt=\"Open In Colab\"/></a>"
      ]
    },
    {
      "cell_type": "markdown",
      "metadata": {
        "id": "ovY5jkD5dpxE",
        "colab_type": "text"
      },
      "source": [
        "## ch2_exercises_py16.ipynb"
      ]
    },
    {
      "cell_type": "markdown",
      "metadata": {
        "id": "SZw6UnxQWYBe",
        "colab_type": "text"
      },
      "source": [
        "## Q1.\n",
        "> 홍길동 씨의 과목별 점수는 다음과 같다. 홍길동 씨의 평균 점수를 구해 보자.\n",
        "\n",
        "- 과목\t점수\n",
        "- 국어\t80\n",
        "- 영어\t75\n",
        "- 수학\t55"
      ]
    },
    {
      "cell_type": "code",
      "metadata": {
        "id": "rUNNaqJPdg7B",
        "colab_type": "code",
        "outputId": "c80684ac-07d2-400f-f653-4c46d2c1d364",
        "colab": {
          "base_uri": "https://localhost:8080/",
          "height": 36
        }
      },
      "source": [
        "# [Q1] Code\n",
        "a = 80\n",
        "b = 75\n",
        "c = 55\n",
        "(a+b+c)/3"
      ],
      "execution_count": 0,
      "outputs": [
        {
          "output_type": "execute_result",
          "data": {
            "text/plain": [
              "70.0"
            ]
          },
          "metadata": {
            "tags": []
          },
          "execution_count": 4
        }
      ]
    },
    {
      "cell_type": "markdown",
      "metadata": {
        "colab_type": "text",
        "id": "re2-XrUYXF1m"
      },
      "source": [
        "## Q2.\n",
        "> 자연수 13이 홀수인지 짝수인지 판별할 수 있는 방법에 대해 말해 보자.\n",
        "\n",
        "1. 판별 기준\n",
        "2. 코드\n"
      ]
    },
    {
      "cell_type": "code",
      "metadata": {
        "colab_type": "code",
        "id": "5MBLUZ5WXF1q",
        "outputId": "6683f0a4-34f6-4bf8-b296-4c88ad59e8b4",
        "colab": {
          "base_uri": "https://localhost:8080/",
          "height": 36
        }
      },
      "source": [
        "# [Q2] Code\n",
        "# 1. 판별 기준 :  홀수 = True 짝수 = False\n",
        "# 수를 2로 나눴을 때 나머지가 1 이면 홀수(출력값 = True) 나머지가 0 이면 짝수 (출력값 = False) \n",
        "a = 13 / 2\n",
        "bool(a)"
      ],
      "execution_count": 0,
      "outputs": [
        {
          "output_type": "execute_result",
          "data": {
            "text/plain": [
              "True"
            ]
          },
          "metadata": {
            "tags": []
          },
          "execution_count": 7
        }
      ]
    },
    {
      "cell_type": "markdown",
      "metadata": {
        "colab_type": "text",
        "id": "UZy8lu_BXGnT"
      },
      "source": [
        "## Q3.\n",
        "> 홍길동 씨의 주민등록번호는 881120-1068234이다. 홍길동 씨의 주민등록번호를 연월일(YYYYMMDD) 부분과 그 뒤의 숫자 부분으로 나누어 출력해 보자.\n",
        "\n",
        "- 문자열 슬라이싱 기법을 사용해 보자."
      ]
    },
    {
      "cell_type": "code",
      "metadata": {
        "colab_type": "code",
        "id": "H9T_sXHzXGnW",
        "outputId": "d95928e9-cba1-44fc-c6cd-c038eacbc9be",
        "colab": {
          "base_uri": "https://localhost:8080/",
          "height": 36
        }
      },
      "source": [
        "# [Q3] Code\n",
        "pin = \"881120-1068234\"\n",
        "pin[0:6], pin[7:]"
      ],
      "execution_count": 0,
      "outputs": [
        {
          "output_type": "execute_result",
          "data": {
            "text/plain": [
              "('881120', '1068234')"
            ]
          },
          "metadata": {
            "tags": []
          },
          "execution_count": 11
        }
      ]
    },
    {
      "cell_type": "markdown",
      "metadata": {
        "colab_type": "text",
        "id": "fqypxxqTXHY7"
      },
      "source": [
        "## Q4.\n",
        "> 주민등록번호 뒷자리의 맨 첫 번째 숫자는 성별을 나타낸다. 주민등록번호에서 성별을 나타내는 숫자를 출력해 보자.\n",
        "\n",
        "- pin = \"881120-1068234\"\n",
        "- ※ 문자열 인덱싱 또는 내장함수를 사용해 보자.\n",
        "- 문자열포맷팅을 이용해서 성별을 출력하시오."
      ]
    },
    {
      "cell_type": "code",
      "metadata": {
        "colab_type": "code",
        "id": "oQ5UnmayXHY-",
        "outputId": "cbb972ca-a32d-41e3-bd3f-42616b47cceb",
        "colab": {
          "base_uri": "https://localhost:8080/",
          "height": 36
        }
      },
      "source": [
        "# [Q4] Code\n",
        "pin = \"881120-1068234\"\n",
        "number = pin[7]\n",
        "f\"성별을 나타내는 숫자는 {number} 입니다.\""
      ],
      "execution_count": 0,
      "outputs": [
        {
          "output_type": "execute_result",
          "data": {
            "text/plain": [
              "'성별을 나타내는 숫자는 1 입니다.'"
            ]
          },
          "metadata": {
            "tags": []
          },
          "execution_count": 17
        }
      ]
    },
    {
      "cell_type": "markdown",
      "metadata": {
        "colab_type": "text",
        "id": "NKsvciXZXIL-"
      },
      "source": [
        "## Q5.\n",
        "> 다음과 같은 문자열 a:b:c:d가 있다. 문자열의 replace 함수를 사용하여 a#b#c#d로 바꿔서 출력해 보자.\n",
        "\n",
        "- a = \"a:b:c:d\""
      ]
    },
    {
      "cell_type": "code",
      "metadata": {
        "colab_type": "code",
        "id": "5MZQYOVjXIL_",
        "outputId": "e5af4a5e-9d1a-499a-ccd9-d812d595c0d8",
        "colab": {
          "base_uri": "https://localhost:8080/",
          "height": 36
        }
      },
      "source": [
        "# [Q5] Code\n",
        "a = \"a:b:c:d\"\n",
        "a.replace(\":\",\"#\")"
      ],
      "execution_count": 0,
      "outputs": [
        {
          "output_type": "execute_result",
          "data": {
            "text/plain": [
              "'a#b#c#d'"
            ]
          },
          "metadata": {
            "tags": []
          },
          "execution_count": 20
        }
      ]
    },
    {
      "cell_type": "markdown",
      "metadata": {
        "colab_type": "text",
        "id": "-3KHtOOoXJBV"
      },
      "source": [
        "## Q6.\n",
        "> [1, 3, 5, 4, 2] 리스트를 [5, 4, 3, 2, 1]로 만들어 보자.\n",
        "\n",
        "- ※ 리스트의 내장 함수를 사용해 보자."
      ]
    },
    {
      "cell_type": "code",
      "metadata": {
        "colab_type": "code",
        "id": "AjYR0lUaXJBa",
        "outputId": "f73cbb7d-b3fc-4346-f13c-dc3c2967e7c2",
        "colab": {
          "base_uri": "https://localhost:8080/",
          "height": 36
        }
      },
      "source": [
        "# [Q6] Code\n",
        "a = [1,3,5,4,2]\n",
        "a.sort()\n",
        "a.reverse()\n",
        "a"
      ],
      "execution_count": 0,
      "outputs": [
        {
          "output_type": "execute_result",
          "data": {
            "text/plain": [
              "[5, 4, 3, 2, 1]"
            ]
          },
          "metadata": {
            "tags": []
          },
          "execution_count": 19
        }
      ]
    },
    {
      "cell_type": "markdown",
      "metadata": {
        "colab_type": "text",
        "id": "t4IiVHLeZZiY"
      },
      "source": [
        "## Q7.\n",
        "> ['Life', 'is', 'too', 'short'] 리스트를 Life is too short 문자열로 만들어 출력해 보자.\n",
        "\n",
        "- ※ 문자열의 join 함수를 사용하면 리스트를 문자열로 쉽게 만들 수 있다."
      ]
    },
    {
      "cell_type": "code",
      "metadata": {
        "colab_type": "code",
        "id": "9N_atipGZZii",
        "outputId": "9fc6b3b7-e800-4596-b91c-acc98d7099aa",
        "colab": {
          "base_uri": "https://localhost:8080/",
          "height": 36
        }
      },
      "source": [
        "# [Q7] Code\n",
        "\" \".join(['Life', 'is', 'too', 'short']) "
      ],
      "execution_count": 0,
      "outputs": [
        {
          "output_type": "execute_result",
          "data": {
            "text/plain": [
              "'Life is too short'"
            ]
          },
          "metadata": {
            "tags": []
          },
          "execution_count": 24
        }
      ]
    },
    {
      "cell_type": "markdown",
      "metadata": {
        "colab_type": "text",
        "id": "-lBhb33mZaak"
      },
      "source": [
        "## Q8.\n",
        "> (1,2,3) 튜플에 값 4를 추가하여 (1,2,3,4)를 만들어 출력해 보자.\n",
        "\n",
        "- ※ 더하기(+) 또는 다른 방법들을 사용해 보자."
      ]
    },
    {
      "cell_type": "code",
      "metadata": {
        "colab_type": "code",
        "id": "i4BTj9htZaao",
        "outputId": "27e7c669-dd77-4a9f-e934-f2b3c0cc6cc7",
        "colab": {
          "base_uri": "https://localhost:8080/",
          "height": 36
        }
      },
      "source": [
        "# [Q8] Code\n",
        "t1 = (1, 2, 3)\n",
        "t1 = t1 + (4,)\n",
        "print(t1)"
      ],
      "execution_count": 0,
      "outputs": [
        {
          "output_type": "stream",
          "text": [
            "(1, 2, 3, 4)\n"
          ],
          "name": "stdout"
        }
      ]
    },
    {
      "cell_type": "markdown",
      "metadata": {
        "colab_type": "text",
        "id": "RbzxnM_2ZbD7"
      },
      "source": [
        "## Q9.\n",
        "> 다음과 같은 딕셔너리 a가 있다.\n",
        "\n",
        ">> a = dict()  \n",
        ">> a  \n",
        "{}\n",
        "\n",
        "- 다음 중 오류가 발생하는 경우를 고르고, 그 이유를 설명해 보자.\n",
        "\n",
        "1. a['name'] = 'python'\n",
        "2. a[('a',)] = 'python'\n",
        "3. a[[1]] = 'python'\n",
        "4. a[250] = 'python'"
      ]
    },
    {
      "cell_type": "markdown",
      "metadata": {
        "id": "Yd6gF9Uh5Irl",
        "colab_type": "text"
      },
      "source": [
        "### a[[1]] = 'python'에서 오류 발생\n",
        "### 그 이유는 a[[1]]에서 list를 키로 사용했기 때문이다. 딕셔너리의 키는 문자열이나 tuple은 사용될 수 있는 반면, list는 Mutable 타입이므로 사용될 수 없다. 왜냐하면 딕셔너리의 키는 그 값을 변경할 수 없는 Immutable 타입이어야 하기 때문이다."
      ]
    },
    {
      "cell_type": "code",
      "metadata": {
        "colab_type": "code",
        "id": "f-5U0rBgZbEB",
        "outputId": "624ff391-bc97-4a5b-a38a-999514894394",
        "colab": {
          "base_uri": "https://localhost:8080/",
          "height": 36
        }
      },
      "source": [
        "# [Q9] Code & explanation\n",
        "a = dict()\n",
        "a['name'] = 'python'\n",
        "a[('a',)] = 'python'\n",
        "# a[[1]] = 'python' # TypeError: unhashable type: 'list'\n",
        "a[250] = 'python'\n",
        "a"
      ],
      "execution_count": 0,
      "outputs": [
        {
          "output_type": "execute_result",
          "data": {
            "text/plain": [
              "{('a',): 'python', 250: 'python', 'name': 'python'}"
            ]
          },
          "metadata": {
            "tags": []
          },
          "execution_count": 29
        }
      ]
    },
    {
      "cell_type": "markdown",
      "metadata": {
        "colab_type": "text",
        "id": "9qiSBPM8Zbpj"
      },
      "source": [
        "## Q10.\n",
        "> 딕셔너리 a에서 'B'에 해당되는 값을 추출해 보자.\n",
        ">> a = {'A':90, 'B':80, 'C':70}\n",
        "\n",
        "- ※ 딕셔너리의 pop 함수를 사용해 보자."
      ]
    },
    {
      "cell_type": "code",
      "metadata": {
        "colab_type": "code",
        "id": "Y9swWMWHZbpm",
        "outputId": "9a235c53-e949-43f0-ee22-5feb9c4cda2d",
        "colab": {
          "base_uri": "https://localhost:8080/",
          "height": 36
        }
      },
      "source": [
        "# [Q10] Code\n",
        "a = {'A':90, 'B':80, 'C':70}\n",
        "a.pop('B')"
      ],
      "execution_count": 0,
      "outputs": [
        {
          "output_type": "execute_result",
          "data": {
            "text/plain": [
              "80"
            ]
          },
          "metadata": {
            "tags": []
          },
          "execution_count": 43
        }
      ]
    },
    {
      "cell_type": "markdown",
      "metadata": {
        "colab_type": "text",
        "id": "88KNoXFNZcR7"
      },
      "source": [
        "## Q11.\n",
        "> a 리스트에서 중복 숫자를 제거해 보자.\n",
        ">> a = [1, 1, 1, 2, 2, 3, 3, 3, 4, 4, 5]\n",
        "\n",
        "- ※ 집합 자료형의 요솟값이 중복될 수 없다는 특징을 사용해 보자."
      ]
    },
    {
      "cell_type": "code",
      "metadata": {
        "colab_type": "code",
        "id": "paSvArIWZcSB",
        "outputId": "5415b9d3-bc82-463a-eaee-c9aad4931665",
        "colab": {
          "base_uri": "https://localhost:8080/",
          "height": 36
        }
      },
      "source": [
        "# [Q11] Code\n",
        "a = [1, 1, 1, 2, 2, 3, 3, 3, 4, 4, 5]\n",
        "s = set(a)\n",
        "s"
      ],
      "execution_count": 0,
      "outputs": [
        {
          "output_type": "execute_result",
          "data": {
            "text/plain": [
              "{1, 2, 3, 4, 5}"
            ]
          },
          "metadata": {
            "tags": []
          },
          "execution_count": 2
        }
      ]
    },
    {
      "cell_type": "markdown",
      "metadata": {
        "colab_type": "text",
        "id": "EzVVHI-AZc3T"
      },
      "source": [
        "## Q12.\n",
        "> 파이썬은 다음처럼 동일한 값에 여러 개의 변수를 선언할 수 있다. 다음과 같이 a, b 변수를 선언한 후 a의 두 번째 요솟값을 변경하면 b 값은 어떻게 될까? 그리고 이런 결과가 오는 이유에 대해 설명해 보자.\n",
        "\n",
        ">> a = b = [1, 2, 3]  \n",
        ">> a[1] = 4  \n",
        ">> print(b)  \n"
      ]
    },
    {
      "cell_type": "markdown",
      "metadata": {
        "id": "Z849ixOb2zbE",
        "colab_type": "text"
      },
      "source": [
        "### a = b = [1, 2, 3]에서 a와 b의 자료 값과 메모리 주소가 같다.\n",
        "### 그러므로 a의 두 번째 요소값을 변경하면 b의 두 번째 요솟값이 a와 같이 변한다. "
      ]
    },
    {
      "cell_type": "code",
      "metadata": {
        "colab_type": "code",
        "id": "RvRIUGqAZc3W",
        "outputId": "c63ef3c6-5bfe-4353-b878-1e36b9490a80",
        "colab": {
          "base_uri": "https://localhost:8080/",
          "height": 36
        }
      },
      "source": [
        "# [Q12] Code & explanation\n",
        "a = b = [1, 2, 3]\n",
        "a[1] = 4\n",
        "print(b)"
      ],
      "execution_count": 0,
      "outputs": [
        {
          "output_type": "stream",
          "text": [
            "[1, 4, 3]\n"
          ],
          "name": "stdout"
        }
      ]
    },
    {
      "cell_type": "markdown",
      "metadata": {
        "id": "2ljBDShkbqZO",
        "colab_type": "text"
      },
      "source": [
        "## 코딩 연습 결과를 github에 올리기\n",
        "> 완성된 ipython 노트북 파일을 각자의 github에 올리시오.\n",
        "\n",
        "- github 계정 만들기 (계정이 없는 학생)\n",
        "    1. github에 sign up (Google gmail 계정을 이용해서 만드시오.)\n",
        "- github에 노트 올리기\n",
        "    2. github에 각자의 id로 repo를 만드시오. (한번 만들면 계속 재사용)\n",
        "    3. pynn repo에 연습결과 노트를 올리시오.\n",
        "        - 제출노트: ch2_exercises_id.ipynb\n"
      ]
    }
  ]
}