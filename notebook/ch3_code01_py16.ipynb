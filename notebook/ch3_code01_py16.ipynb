{
  "nbformat": 4,
  "nbformat_minor": 0,
  "metadata": {
    "colab": {
      "name": "ch3_code01_py16.ipynb",
      "provenance": [],
      "collapsed_sections": [],
      "include_colab_link": true
    },
    "kernelspec": {
      "display_name": "Python 3",
      "language": "python",
      "name": "python3"
    },
    "language_info": {
      "codemirror_mode": {
        "name": "ipython",
        "version": 3
      },
      "file_extension": ".py",
      "mimetype": "text/x-python",
      "name": "python",
      "nbconvert_exporter": "python",
      "pygments_lexer": "ipython3",
      "version": "3.7.5"
    }
  },
  "cells": [
    {
      "cell_type": "markdown",
      "metadata": {
        "id": "view-in-github",
        "colab_type": "text"
      },
      "source": [
        "<a href=\"https://colab.research.google.com/github/ducodbs0516/py16/blob/master/notebook/ch3_code01_py16.ipynb\" target=\"_parent\"><img src=\"https://colab.research.google.com/assets/colab-badge.svg\" alt=\"Open In Colab\"/></a>"
      ]
    },
    {
      "cell_type": "markdown",
      "metadata": {
        "colab_type": "text",
        "id": "H4jNE-BMAK3f"
      },
      "source": [
        "# ch3_code01.ipynb\n",
        "## py16  \n",
        "- 조건문: if - elif - else\n",
        "    - 조건식\n",
        "        - 비교연산자(<, >, ==, !=, >=, <=) 사용\n",
        "        - 복합 조건식: or, and, not\n",
        "        - 조건식: in, not in, pass\n",
        "        - 단축조건식: 한 줄 코드 조건식\n",
        "- 반복문: while\n",
        "    - break\n",
        "    - continue"
      ]
    },
    {
      "cell_type": "code",
      "metadata": {
        "id": "hXPcvn1CtW6z",
        "colab_type": "code",
        "outputId": "4109df7a-2eef-4c4f-9162-092e9946695c",
        "colab": {
          "base_uri": "https://localhost:8080/",
          "height": 55
        }
      },
      "source": [
        "# ch3_01_if_else.py\n",
        "#\n",
        "print(\"if문은 어떻게 사용?\")\n",
        "money = True   # money=> bool type\n",
        "if money:\n",
        "    print(\"택시를 타고 가라\")\n",
        "else:\n",
        "    print(\"걸어 가라\")"
      ],
      "execution_count": 0,
      "outputs": [
        {
          "output_type": "stream",
          "text": [
            "if문은 어떻게 사용?\n",
            "택시를 타고 가라\n"
          ],
          "name": "stdout"
        }
      ]
    },
    {
      "cell_type": "code",
      "metadata": {
        "id": "11nFkaX2OB7l",
        "colab_type": "code",
        "outputId": "5b47cce1-4ac9-4f5a-fcad-3414c332ab14",
        "colab": {
          "base_uri": "https://localhost:8080/",
          "height": 55
        }
      },
      "source": [
        "money = True    # False \n",
        "if money:       # ':'사용 들여쓰기\n",
        "    print(\"택시 타세요.\")\n",
        "    print(\"집으로...\")\n",
        "else:\n",
        "    print(\"방콕!\")"
      ],
      "execution_count": 0,
      "outputs": [
        {
          "output_type": "stream",
          "text": [
            "택시 타세요.\n",
            "집으로...\n"
          ],
          "name": "stdout"
        }
      ]
    },
    {
      "cell_type": "code",
      "metadata": {
        "id": "63TYOe3CNwWh",
        "colab_type": "code",
        "outputId": "2a11ea65-9727-408f-f13e-f07d12a8164d",
        "colab": {
          "base_uri": "https://localhost:8080/",
          "height": 111
        }
      },
      "source": [
        "############################\n",
        "print(\"if문의 기본 구조\")\n",
        "'''\n",
        "if 조건문:  # True\n",
        "    수행할 문장1\n",
        "    수행할 문장2 \n",
        "    ...\n",
        "else:       # False\n",
        "    수행할 문장A\n",
        "    수행할 문장B \n",
        "    ...\n",
        "'''\n",
        "#\n",
        "############################\n",
        "print(\"들여 쓰기\")\n",
        "# 예-1\n",
        "money = True\n",
        "if money:\n",
        "    print(\"택시를\")\n",
        "    print(\"타고\")  \n",
        "#print(\"타고\")    # IndentationError: unexpected indent 들여쓰기 에러\n",
        "    print(\"가라\")"
      ],
      "execution_count": 0,
      "outputs": [
        {
          "output_type": "stream",
          "text": [
            "if문의 기본 구조\n",
            "들여 쓰기\n",
            "택시를\n",
            "타고\n",
            "가라\n"
          ],
          "name": "stdout"
        }
      ]
    },
    {
      "cell_type": "markdown",
      "metadata": {
        "id": "VSxBa2ROPx4a",
        "colab_type": "text"
      },
      "source": [
        "### Code scope (코드 적용 범위)\n",
        "\n",
        "### C, JAVA\n",
        "- { ... }\n",
        "\n",
        "### Python\n",
        "- lndent (들여쓰기)"
      ]
    },
    {
      "cell_type": "code",
      "metadata": {
        "id": "dt-NnSOQPLLL",
        "colab_type": "code",
        "outputId": "6e3865d5-5eff-4411-8576-14f4872b14c9",
        "colab": {
          "base_uri": "https://localhost:8080/",
          "height": 73
        }
      },
      "source": [
        "#\n",
        "# 예-2\n",
        "money = True\n",
        "if money:\n",
        "    print(\"택시를\")\n",
        "    print(\"타고\")\n",
        "        # print(\"가라\")    # IndentationError: unexpected indent 들여쓰기 에러\n",
        "    print(\"가라\")"
      ],
      "execution_count": 0,
      "outputs": [
        {
          "output_type": "stream",
          "text": [
            "택시를\n",
            "타고\n",
            "가라\n"
          ],
          "name": "stdout"
        }
      ]
    },
    {
      "cell_type": "markdown",
      "metadata": {
        "id": "uhUBuk49Qxd0",
        "colab_type": "text"
      },
      "source": [
        "### 조건식: 비교연산자"
      ]
    },
    {
      "cell_type": "code",
      "metadata": {
        "id": "2wOlTFJFQbEg",
        "colab_type": "code",
        "outputId": "6995eeca-19d9-45dd-b5cd-9d15baaf3a4f",
        "colab": {
          "base_uri": "https://localhost:8080/",
          "height": 55
        }
      },
      "source": [
        "###################################\n",
        "# 조건문 다음에 콜론(:)을 잊지 말자!\n",
        "###################################\n",
        "\n",
        "print(\"조건식: 비교연산자\")\n",
        "# 비교연산자(<, >, ==, !=(크기가 다름), >=(같거나 큼), <=(같거나 작음))를 쓰는 방법\n",
        "x=3\n",
        "y=2\n",
        "x>y\n",
        "\n",
        "x<y\n",
        "x==y\n",
        "x!=y"
      ],
      "execution_count": 0,
      "outputs": [
        {
          "output_type": "stream",
          "text": [
            "조건식: 비교연산자\n"
          ],
          "name": "stdout"
        },
        {
          "output_type": "execute_result",
          "data": {
            "text/plain": [
              "True"
            ]
          },
          "metadata": {
            "tags": []
          },
          "execution_count": 26
        }
      ]
    },
    {
      "cell_type": "code",
      "metadata": {
        "id": "l74Cb1aKQ4mP",
        "colab_type": "code",
        "outputId": "02d9cff4-2138-4496-e0a0-3168b74b64f4",
        "colab": {
          "base_uri": "https://localhost:8080/",
          "height": 36
        }
      },
      "source": [
        "###################################\n",
        "# 조건식 만들기\n",
        "###################################\n",
        "# \"만약 3000원 이상의 돈을 가지고 있으면 택시를 타고 그렇지 않으면 걸어 가라.\"\n",
        "money = 2000\n",
        "if money >= 3000:  # 3000보다 크면\n",
        "    print(\"택시를 타고 가라\")\n",
        "else:\n",
        "    print(\"걸어가라\")"
      ],
      "execution_count": 0,
      "outputs": [
        {
          "output_type": "stream",
          "text": [
            "걸어가라\n"
          ],
          "name": "stdout"
        }
      ]
    },
    {
      "cell_type": "code",
      "metadata": {
        "id": "7ZXB_4fiRuFP",
        "colab_type": "code",
        "outputId": "e47fc300-9f3a-450a-8c46-f9db236f4860",
        "colab": {
          "base_uri": "https://localhost:8080/",
          "height": 36
        }
      },
      "source": [
        "money, money>3000"
      ],
      "execution_count": 0,
      "outputs": [
        {
          "output_type": "execute_result",
          "data": {
            "text/plain": [
              "(2000, False)"
            ]
          },
          "metadata": {
            "tags": []
          },
          "execution_count": 27
        }
      ]
    },
    {
      "cell_type": "markdown",
      "metadata": {
        "id": "5bXzGlSXSYj1",
        "colab_type": "text"
      },
      "source": [
        "### 복합 조건식: or, and, not"
      ]
    },
    {
      "cell_type": "code",
      "metadata": {
        "id": "KzKkkobERjEA",
        "colab_type": "code",
        "outputId": "b67b4b44-70cc-4b77-d988-233807551a8d",
        "colab": {
          "base_uri": "https://localhost:8080/",
          "height": 36
        }
      },
      "source": [
        "###################################\n",
        "# 복합 조건식: or, and, not\n",
        "###################################\n",
        "# 연산자\t설명\n",
        "# x or y  :\tx와 y 둘중에 하나만 참이면 참이다\n",
        "# x and y :\tx와 y 모두 참이어야 참이다\n",
        "# not x\t  : x가 거짓이면 참이다\n",
        "###################################\n",
        "# or 복합 조건식 이용\n",
        "# \"돈이 3000원 이상 있거나 카드가 있다면 택시를 타고 그렇지 않으면 걸어 가라.\"\n",
        "money = 2000\n",
        "card = True  # bool\n",
        "if money >= 3000 or card:\n",
        "    print(\"택시를 타고 가라\")\n",
        "else:\n",
        "    print(\"걸어가라\")"
      ],
      "execution_count": 0,
      "outputs": [
        {
          "output_type": "stream",
          "text": [
            "택시를 타고 가라\n"
          ],
          "name": "stdout"
        }
      ]
    },
    {
      "cell_type": "markdown",
      "metadata": {
        "id": "wLizEfVtS5qe",
        "colab_type": "text"
      },
      "source": [
        "### 조건식: \n",
        "- in\n",
        "- not in"
      ]
    },
    {
      "cell_type": "code",
      "metadata": {
        "id": "-o04Xq_HSJN6",
        "colab_type": "code",
        "outputId": "15aaa84e-450b-49be-d146-fcccb77eb7e6",
        "colab": {
          "base_uri": "https://localhost:8080/",
          "height": 36
        }
      },
      "source": [
        "###################################\n",
        "# 조건식: in, not in\n",
        "###################################\n",
        "#   in\t          not in\n",
        "# x in 리스트\tx not in 리스트\n",
        "# x in 튜플\t    x not in 튜플\n",
        "# x in 문자열\tx not in 문자열\n",
        "###################################\n",
        "# list\n",
        "1 in [1, 2, 3]          # [] => list 구조 , 다차원으로 확장 가능, 가변형\n",
        "1 not in [1, 2, 3]\n",
        "# tuple\n",
        "'a' in ('a', 'b', 'c')  # '' => tuple 구조, 불변형\n",
        "# a in ('a', 'b', 'c')    # a = 변수 / 'a'= 문자 # NameError: name 'a' is not defined\n",
        "# string\n",
        "'j' not in 'python'     # 문자열 구조\n",
        "'t' in 'python'"
      ],
      "execution_count": 0,
      "outputs": [
        {
          "output_type": "execute_result",
          "data": {
            "text/plain": [
              "True"
            ]
          },
          "metadata": {
            "tags": []
          },
          "execution_count": 38
        }
      ]
    },
    {
      "cell_type": "code",
      "metadata": {
        "id": "uIplZKwEUhI7",
        "colab_type": "code",
        "outputId": "8870bb43-6510-4d55-c4d7-a8b59212989d",
        "colab": {
          "base_uri": "https://localhost:8080/",
          "height": 36
        }
      },
      "source": [
        "'a' in 'abcdefg'"
      ],
      "execution_count": 0,
      "outputs": [
        {
          "output_type": "execute_result",
          "data": {
            "text/plain": [
              "True"
            ]
          },
          "metadata": {
            "tags": []
          },
          "execution_count": 40
        }
      ]
    },
    {
      "cell_type": "code",
      "metadata": {
        "id": "grJENujJTaGP",
        "colab_type": "code",
        "outputId": "0c280008-2748-41fd-eae7-cbaa1c3521e0",
        "colab": {
          "base_uri": "https://localhost:8080/",
          "height": 36
        }
      },
      "source": [
        "# in을 이용한 코드\n",
        "# \"만약 주머니에 돈이 있으면 택시를 타고, 없으면 걸어 가라.\"\n",
        "pocket = ['paper', 'cellphone', 'money'] # list\n",
        "if 'money' in pocket:  \n",
        "    print(\"택시를 타고 가라\")\n",
        "else:\n",
        "    print(\"걸어가라\")"
      ],
      "execution_count": 0,
      "outputs": [
        {
          "output_type": "stream",
          "text": [
            "택시를 타고 가라\n"
          ],
          "name": "stdout"
        }
      ]
    },
    {
      "cell_type": "code",
      "metadata": {
        "id": "EEhpjEtVU7tj",
        "colab_type": "code",
        "colab": {}
      },
      "source": [
        "###################################\n",
        "# 조건식: pass\n",
        "###################################\n",
        "pocket = ['paper', 'cellphone', 'money']\n",
        "if 'money' in pocket:\n",
        "    # print(\"택시를 타고 가라\")\n",
        "    pass      # 실행되는 결과 없이 넘어감\n",
        "else:\n",
        "    print(\"걸어가라\")"
      ],
      "execution_count": 0,
      "outputs": []
    },
    {
      "cell_type": "markdown",
      "metadata": {
        "id": "l8GPG_JjVYyV",
        "colab_type": "text"
      },
      "source": [
        "### 다중 조건식: elif\n",
        "> 다양한 조건을 판단"
      ]
    },
    {
      "cell_type": "code",
      "metadata": {
        "id": "F-8Je71QVCbN",
        "colab_type": "code",
        "outputId": "3ec9fba4-82aa-4cc1-a309-4100a5176582",
        "colab": {
          "base_uri": "https://localhost:8080/",
          "height": 36
        }
      },
      "source": [
        "###################################\n",
        "# 다중 조건식: elif\n",
        "# 다양한 조건을 판단\n",
        "###################################\n",
        "# \"주머니에 돈이 있으면 택시를 타고, \n",
        "# 주머니에 돈은 없지만 카드가 있으면 택시를 타고, \n",
        "# 돈도 없고 카드도 없으면 걸어 가라.\"\n",
        "#\n",
        "pocket = ['paper', 'handphone']\n",
        "card = True\n",
        "if 'money' in pocket:\n",
        "    print(\"택시를 타고가라\")\n",
        "else:\n",
        "    if card:\n",
        "        print(\"택시를 타고가라\")\n",
        "    else:\n",
        "        print(\"걸어가라\")"
      ],
      "execution_count": 0,
      "outputs": [
        {
          "output_type": "stream",
          "text": [
            "택시를 타고가라\n"
          ],
          "name": "stdout"
        }
      ]
    },
    {
      "cell_type": "code",
      "metadata": {
        "id": "xZQTDvGaVrIE",
        "colab_type": "code",
        "outputId": "16cb597a-9031-448b-c3e9-f26d901096d0",
        "colab": {
          "base_uri": "https://localhost:8080/",
          "height": 36
        }
      },
      "source": [
        "# elif 이용한 코드\n",
        "pocket = ['paper', 'handphone']\n",
        "card = False\n",
        "if 'money' in pocket:\n",
        "    print(\"택시를 타고가라\")\n",
        "elif card:\n",
        "    print(\"택시를 타고가라\")\n",
        "else:\n",
        "    print(\"걸어가라\")"
      ],
      "execution_count": 0,
      "outputs": [
        {
          "output_type": "stream",
          "text": [
            "걸어가라\n"
          ],
          "name": "stdout"
        }
      ]
    },
    {
      "cell_type": "markdown",
      "metadata": {
        "id": "i7H4A9FeZKjy",
        "colab_type": "text"
      },
      "source": [
        "## 단축 코드 만들기\n",
        "- if문을 한 줄로 작성하기 (중요) !!"
      ]
    },
    {
      "cell_type": "code",
      "metadata": {
        "id": "t41VxR1sV8oe",
        "colab_type": "code",
        "colab": {}
      },
      "source": [
        "###################################\n",
        "# if문을 한 줄로 작성하기\n",
        "###################################\n",
        "pocket = ['paper', 'cellphone', 'money']\n",
        "if 'money' in pocket:\n",
        "    pass\n",
        "else:\n",
        "    print(\"카드를 사용해라.\")"
      ],
      "execution_count": 0,
      "outputs": []
    },
    {
      "cell_type": "code",
      "metadata": {
        "id": "lyGWD8Y0Zc8d",
        "colab_type": "code",
        "colab": {}
      },
      "source": [
        "# 최소줄 코드\n",
        "if 'money' in pocket: pass\n",
        "else: print(\"카드를 사용해라.\")"
      ],
      "execution_count": 0,
      "outputs": []
    },
    {
      "cell_type": "markdown",
      "metadata": {
        "id": "rlksOsovZwBR",
        "colab_type": "text"
      },
      "source": [
        "### 중요 !!"
      ]
    },
    {
      "cell_type": "code",
      "metadata": {
        "id": "NsGRPFH2ZXhj",
        "colab_type": "code",
        "outputId": "5012d02d-9899-4427-c017-91fa3cbffe7d",
        "colab": {
          "base_uri": "https://localhost:8080/",
          "height": 55
        }
      },
      "source": [
        "######################################################\n",
        "# 조건부 표현식 (conditional expression)\n",
        "# 조건문이 참인 경우 if 조건문 else 조건문이 거짓인 경우\n",
        "######################################################\n",
        "score=80\n",
        "if score >= 60:\n",
        "    message = \"success\"\n",
        "else:\n",
        "    message = \"failure\"\n",
        "\n",
        "print(message)\n",
        "\n",
        "# 한줄 코드\n",
        "score=50\n",
        "message = \"success\" if score >= 60 else \"failure\" # 중요\n",
        "print(message)"
      ],
      "execution_count": 0,
      "outputs": [
        {
          "output_type": "stream",
          "text": [
            "success\n",
            "failure\n"
          ],
          "name": "stdout"
        }
      ]
    },
    {
      "cell_type": "markdown",
      "metadata": {
        "id": "TrRLvJPubHIR",
        "colab_type": "text"
      },
      "source": [
        "## 반복문\n",
        "- while \n",
        "- for"
      ]
    },
    {
      "cell_type": "markdown",
      "metadata": {
        "id": "Xyr1_dezcKjV",
        "colab_type": "text"
      },
      "source": [
        "### 파이썬 문제는 3번 풀어봐야 한다 이때 만들 수 있는 코드는 ?"
      ]
    },
    {
      "cell_type": "code",
      "metadata": {
        "id": "0Y0fMfkPtW62",
        "colab_type": "code",
        "outputId": "0099c24f-2b21-4567-bdcf-afcaafcc452c",
        "colab": {
          "base_uri": "https://localhost:8080/",
          "height": 260
        }
      },
      "source": [
        "# ch3_02_whie.py\n",
        "#\n",
        "print(\"while 문은 어떻게 사용?\")\n",
        "# 반복해서 문장을 수행해야 할 경우 while문을 사용한다. \n",
        "# 그래서 while문을 반복문이라고도 부른다.\n",
        "\n",
        "############################\n",
        "print(\"while문의 기본 구조\")\n",
        "'''\n",
        "while <조건문>:\n",
        "    <수행할 문장1>\n",
        "    <수행할 문장2>\n",
        "    <수행할 문장3>\n",
        "    ...\n",
        "'''\n",
        "\n",
        "# \"열 번 찍어 안 넘어가는 나무 없다\"는 속담을 파이썬 프로그램으로 반복 실행\n",
        "treeHit = 0   # 찍은 횟수\n",
        "while treeHit < 10:\n",
        "    treeHit = treeHit +1\n",
        "    print(\"나무를 %d번 찍었습니다.\" % treeHit)\n",
        "    if treeHit == 10:\n",
        "        print(\"나무 넘어갑니다.\")"
      ],
      "execution_count": 0,
      "outputs": [
        {
          "output_type": "stream",
          "text": [
            "while 문은 어떻게 사용?\n",
            "while문의 기본 구조\n",
            "나무를 1번 찍었습니다.\n",
            "나무를 2번 찍었습니다.\n",
            "나무를 3번 찍었습니다.\n",
            "나무를 4번 찍었습니다.\n",
            "나무를 5번 찍었습니다.\n",
            "나무를 6번 찍었습니다.\n",
            "나무를 7번 찍었습니다.\n",
            "나무를 8번 찍었습니다.\n",
            "나무를 9번 찍었습니다.\n",
            "나무를 10번 찍었습니다.\n",
            "나무 넘어갑니다.\n"
          ],
          "name": "stdout"
        }
      ]
    },
    {
      "cell_type": "code",
      "metadata": {
        "id": "jB2LccedbX9I",
        "colab_type": "code",
        "outputId": "5efde775-ca3e-4f37-87e5-7302239dd865",
        "colab": {
          "base_uri": "https://localhost:8080/",
          "height": 279
        }
      },
      "source": [
        "# 무한 루프\n",
        "############################\n",
        "print(\"while문 만들기\")\n",
        "## \"\"\"  ...  \"\"\" 2줄 이상의 문자\n",
        "prompt = \"\"\"  \n",
        "1. Add\n",
        "2. Del\n",
        "3. List\n",
        "4. Quit\n",
        "Enter number: \"\"\"\n",
        "\n",
        "print(prompt)\n",
        "\n",
        "number = 0\n",
        "while number != 4:   # while 뒤에 항상 True => 무한 루프\n",
        "    print(prompt)\n",
        "    number = int(input())  #input => 입력 받음 # int=> 정수 입력 값 # 4 = 무한 루프 정지 "
      ],
      "execution_count": 0,
      "outputs": [
        {
          "output_type": "stream",
          "text": [
            "while문 만들기\n",
            "  \n",
            "1. Add\n",
            "2. Del\n",
            "3. List\n",
            "4. Quit\n",
            "Enter number: \n",
            "  \n",
            "1. Add\n",
            "2. Del\n",
            "3. List\n",
            "4. Quit\n",
            "Enter number: \n",
            "4\n"
          ],
          "name": "stdout"
        }
      ]
    },
    {
      "cell_type": "markdown",
      "metadata": {
        "id": "pQwOEJaadvVf",
        "colab_type": "text"
      },
      "source": [
        "### 중요 !!!(코드)"
      ]
    },
    {
      "cell_type": "code",
      "metadata": {
        "id": "3DTXpv15cVpe",
        "colab_type": "code",
        "outputId": "05065af0-3e04-4b7b-9535-9b59f4e4bd85",
        "colab": {
          "base_uri": "https://localhost:8080/",
          "height": 428
        }
      },
      "source": [
        "#\n",
        "###################################\n",
        "print(\"while문 강제로 빠져나가기\")\n",
        "###################################\n",
        "# 커피 자판기 작동\n",
        "# 자판기가 제대로 작동하려면 커피가 얼마나 남았는지 항상 검사해야 한다. \n",
        "# 만약 커피가 떨어졌다면 판매를 중단하고 \"판매 중지\" 문구를 사용자에게 보여준다.\n",
        "#\n",
        "coffee = 10\n",
        "money = 300\n",
        "while money:     # 1 이상의 양의 정수는 모두 True\n",
        "    print(\"돈을 받았으니 커피를 줍니다.\")\n",
        "    coffee = coffee -1\n",
        "    print(\"남은 커피의 양은 %d개입니다.\" % coffee)\n",
        "    if coffee == 0:\n",
        "        print(\"커피가 다 떨어졌습니다. 판매를 중지합니다.\")\n",
        "        break    # while문 빠져나감"
      ],
      "execution_count": 0,
      "outputs": [
        {
          "output_type": "stream",
          "text": [
            "while문 강제로 빠져나가기\n",
            "돈을 받았으니 커피를 줍니다.\n",
            "남은 커피의 양은 9개입니다.\n",
            "돈을 받았으니 커피를 줍니다.\n",
            "남은 커피의 양은 8개입니다.\n",
            "돈을 받았으니 커피를 줍니다.\n",
            "남은 커피의 양은 7개입니다.\n",
            "돈을 받았으니 커피를 줍니다.\n",
            "남은 커피의 양은 6개입니다.\n",
            "돈을 받았으니 커피를 줍니다.\n",
            "남은 커피의 양은 5개입니다.\n",
            "돈을 받았으니 커피를 줍니다.\n",
            "남은 커피의 양은 4개입니다.\n",
            "돈을 받았으니 커피를 줍니다.\n",
            "남은 커피의 양은 3개입니다.\n",
            "돈을 받았으니 커피를 줍니다.\n",
            "남은 커피의 양은 2개입니다.\n",
            "돈을 받았으니 커피를 줍니다.\n",
            "남은 커피의 양은 1개입니다.\n",
            "돈을 받았으니 커피를 줍니다.\n",
            "남은 커피의 양은 0개입니다.\n",
            "커피가 다 떨어졌습니다. 판매를 중지합니다.\n"
          ],
          "name": "stdout"
        }
      ]
    },
    {
      "cell_type": "code",
      "metadata": {
        "id": "_4BJvuO2eEhy",
        "colab_type": "code",
        "outputId": "7223c7ef-87e3-4012-e431-eafc5799ff1d",
        "colab": {
          "base_uri": "https://localhost:8080/",
          "height": 36
        }
      },
      "source": [
        "bool(300)"
      ],
      "execution_count": 0,
      "outputs": [
        {
          "output_type": "execute_result",
          "data": {
            "text/plain": [
              "True"
            ]
          },
          "metadata": {
            "tags": []
          },
          "execution_count": 69
        }
      ]
    },
    {
      "cell_type": "code",
      "metadata": {
        "id": "DWDI0CBSd0_m",
        "colab_type": "code",
        "outputId": "56234434-f961-4012-b847-5116d1f18651",
        "colab": {
          "base_uri": "https://localhost:8080/",
          "height": 56
        }
      },
      "source": [
        "###################################\n",
        "# coffee.py\n",
        "###################################\n",
        "\"\"\"\n",
        "coffee = 10\n",
        "while True:  # while True => 무한루프\n",
        "    money = int(input(\"돈을 넣어 주세요: \"))\n",
        "    if money == 300:\n",
        "        print(\"커피를 줍니다.\")\n",
        "        coffee = coffee -1\n",
        "    elif money > 300:\n",
        "        print(\"거스름돈 %d를 주고 커피를 줍니다.\" % (money -300))\n",
        "        coffee = coffee -1\n",
        "    else:\n",
        "        print(\"돈을 다시 돌려주고 커피를 주지 않습니다.\")\n",
        "        print(\"남은 커피의 양은 %d개 입니다.\" % coffee)\n",
        "    if coffee == 0:\n",
        "        print(\"커피가 다 떨어졌습니다. 판매를 중지 합니다.\")\n",
        "        break\n",
        "\"\"\""
      ],
      "execution_count": 0,
      "outputs": [
        {
          "output_type": "execute_result",
          "data": {
            "text/plain": [
              "'\\ncoffee = 10\\nwhile True:  # while True => 무한루프\\n    money = int(input(\"돈을 넣어 주세요: \"))\\n    if money == 300:\\n        print(\"커피를 줍니다.\")\\n        coffee = coffee -1\\n    elif money > 300:\\n        print(\"거스름돈 %d를 주고 커피를 줍니다.\" % (money -300))\\n        coffee = coffee -1\\n    else:\\n        print(\"돈을 다시 돌려주고 커피를 주지 않습니다.\")\\n        print(\"남은 커피의 양은 %d개 입니다.\" % coffee)\\n    if coffee == 0:\\n        print(\"커피가 다 떨어졌습니다. 판매를 중지 합니다.\")\\n        break\\n'"
            ]
          },
          "metadata": {
            "tags": []
          },
          "execution_count": 74
        }
      ]
    },
    {
      "cell_type": "markdown",
      "metadata": {
        "id": "RpV__33Zf7iO",
        "colab_type": "text"
      },
      "source": [
        "### colab에서 python 소스 실행하기\n",
        "- run cotte.py"
      ]
    },
    {
      "cell_type": "code",
      "metadata": {
        "id": "zZjd4p8uhC7X",
        "colab_type": "code",
        "outputId": "34d8e8b8-c5fc-4ce8-f077-dc9b9aa9d034",
        "colab": {
          "base_uri": "https://localhost:8080/",
          "height": 223
        }
      },
      "source": [
        "run coffee.py"
      ],
      "execution_count": 0,
      "outputs": [
        {
          "output_type": "stream",
          "text": [
            "돈을 넣어 주세요: 300\n",
            "커피를 줍니다.\n",
            "돈을 넣어 주세요: 400\n",
            "거스름돈 100를 주고 커피를 줍니다.\n",
            "돈을 넣어 주세요: 300\n",
            "커피를 줍니다.\n",
            "돈을 넣어 주세요: 300\n",
            "커피를 줍니다.\n",
            "돈을 넣어 주세요: 300\n",
            "커피를 줍니다.\n",
            "커피가 다 떨어졌습니다. 판매를 중지 합니다.\n"
          ],
          "name": "stdout"
        }
      ]
    },
    {
      "cell_type": "code",
      "metadata": {
        "id": "48EV7JP_fThw",
        "colab_type": "code",
        "outputId": "5a40c60c-7abb-4936-996b-b149feda327c",
        "colab": {
          "base_uri": "https://localhost:8080/",
          "height": 521
        }
      },
      "source": [
        "coffee = 10\n",
        "while True:  # while True => 무한루프\n",
        "    money = int(input(\"돈을 넣어 주세요: \"))\n",
        "    if money == 300:\n",
        "        print(\"커피를 줍니다.\")\n",
        "        coffee = coffee -1\n",
        "    elif money > 300:\n",
        "        print(\"거스름돈 %d를 주고 커피를 줍니다.\" % (money -300))\n",
        "        coffee = coffee -1\n",
        "    else:\n",
        "        print(\"돈을 다시 돌려주고 커피를 주지 않습니다.\")\n",
        "        print(\"남은 커피의 양은 %d개 입니다.\" % coffee)\n",
        "    if coffee == 0:\n",
        "        print(\"커피가 다 떨어졌습니다. 판매를 중지 합니다.\")\n",
        "        break"
      ],
      "execution_count": 0,
      "outputs": [
        {
          "output_type": "stream",
          "text": [
            "돈을 넣어 주세요: 300\n",
            "커피를 줍니다.\n",
            "돈을 넣어 주세요: 400\n",
            "거스름돈 100를 주고 커피를 줍니다.\n",
            "돈을 넣어 주세요: 600\n",
            "거스름돈 300를 주고 커피를 줍니다.\n",
            "돈을 넣어 주세요: 5\n",
            "돈을 다시 돌려주고 커피를 주지 않습니다.\n",
            "남은 커피의 양은 7개 입니다.\n",
            "돈을 넣어 주세요: 300\n",
            "커피를 줍니다.\n",
            "돈을 넣어 주세요: 560\n",
            "거스름돈 260를 주고 커피를 줍니다.\n",
            "돈을 넣어 주세요: 300\n",
            "커피를 줍니다.\n",
            "돈을 넣어 주세요: 300\n",
            "커피를 줍니다.\n",
            "돈을 넣어 주세요: 00\n",
            "돈을 다시 돌려주고 커피를 주지 않습니다.\n",
            "남은 커피의 양은 3개 입니다.\n",
            "돈을 넣어 주세요: 330\n",
            "거스름돈 30를 주고 커피를 줍니다.\n",
            "돈을 넣어 주세요: 300\n",
            "커피를 줍니다.\n",
            "돈을 넣어 주세요: 300\n",
            "커피를 줍니다.\n",
            "커피가 다 떨어졌습니다. 판매를 중지 합니다.\n"
          ],
          "name": "stdout"
        }
      ]
    },
    {
      "cell_type": "markdown",
      "metadata": {
        "id": "OGYoERnpiMpe",
        "colab_type": "text"
      },
      "source": [
        "### continue 이용"
      ]
    },
    {
      "cell_type": "code",
      "metadata": {
        "id": "4FZQMoyde2JP",
        "colab_type": "code",
        "outputId": "ee7f5a05-b386-4481-b44d-444d5a414359",
        "colab": {
          "base_uri": "https://localhost:8080/",
          "height": 129
        }
      },
      "source": [
        "#\n",
        "###################################\n",
        "print(\"while문의 맨 처음으로 돌아가기: continue\")\n",
        "###################################\n",
        "# while문을 빠져나가지 않고 while문의 맨 처음(조건문)으로 \n",
        "# 다시 돌아가게 만들고 싶은 경우가 생기게 된다. \n",
        "# 이때 사용하는 것이 바로 continue문이다.\n",
        "#\n",
        "# 1부터 10까지의 숫자 중에서 홀수만 출력하는 것을 while문을 사용해서 작성\n",
        "#\n",
        "a = 0\n",
        "while a < 10:       # a=10 => False while 문이 끝남\n",
        "    a = a + 1\n",
        "    if a % 2 == 0: continue  # a가 짝수면 넘어감\n",
        "    print(a)"
      ],
      "execution_count": 0,
      "outputs": [
        {
          "output_type": "stream",
          "text": [
            "while문의 맨 처음으로 돌아가기: continue\n",
            "1\n",
            "3\n",
            "5\n",
            "7\n",
            "9\n"
          ],
          "name": "stdout"
        }
      ]
    },
    {
      "cell_type": "code",
      "metadata": {
        "id": "tR1HTd5diJjZ",
        "colab_type": "code",
        "colab": {}
      },
      "source": [
        "#\n",
        "###################################\n",
        "print(\"while문의 무한 루프\")\n",
        "###################################\n",
        "#\n",
        "\"\"\"\n",
        "while True: \n",
        "    수행할 문장1 \n",
        "    수행할 문장2\n",
        "    ...\n",
        "\"\"\"\n",
        "# 무한루프 코드의 예 (^C로 중지 !!! --->>> 파이썬 명령 셀)  # colab => 런타임 > 실행중단\n",
        "while True:\n",
        "    print(\"Ctrl+C를 눌러야 while문을 빠져나갈 수 있습니다.\")"
      ],
      "execution_count": 0,
      "outputs": []
    }
  ]
}