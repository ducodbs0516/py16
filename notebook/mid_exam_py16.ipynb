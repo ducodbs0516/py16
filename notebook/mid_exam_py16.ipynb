{
  "nbformat": 4,
  "nbformat_minor": 0,
  "metadata": {
    "colab": {
      "name": "mid_exam_py16.ipynb",
      "provenance": [],
      "collapsed_sections": [],
      "authorship_tag": "ABX9TyOboh7YYaAlc3H2wiw5by1G",
      "include_colab_link": true
    },
    "kernelspec": {
      "name": "python3",
      "display_name": "Python 3"
    }
  },
  "cells": [
    {
      "cell_type": "markdown",
      "metadata": {
        "id": "view-in-github",
        "colab_type": "text"
      },
      "source": [
        "<a href=\"https://colab.research.google.com/github/ducodbs0516/py16/blob/master/notebook/mid_exam_py16.ipynb\" target=\"_parent\"><img src=\"https://colab.research.google.com/assets/colab-badge.svg\" alt=\"Open In Colab\"/></a>"
      ]
    },
    {
      "cell_type": "markdown",
      "metadata": {
        "id": "XHxQwcNAlk0n",
        "colab_type": "text"
      },
      "source": [
        "## 파이썬활용 중간고사 풀이"
      ]
    },
    {
      "cell_type": "markdown",
      "metadata": {
        "id": "OX4yrrx_ZjRA",
        "colab_type": "text"
      },
      "source": [
        "### 중간고사 1 (1~5)"
      ]
    },
    {
      "cell_type": "markdown",
      "metadata": {
        "id": "RHZL_5rQagkr",
        "colab_type": "text"
      },
      "source": [
        "### 문제1.\n",
        "> 다음 식의 연산 결과는?\n",
        "\n",
        ">>a = 5  \n",
        ">>b = 3  \n",
        ">>a**b  \n",
        "\n",
        "\n"
      ]
    },
    {
      "cell_type": "code",
      "metadata": {
        "id": "wEC_ru4TZ8Uc",
        "colab_type": "code",
        "outputId": "8e1f2732-0930-4484-cb94-1084e0d456b3",
        "colab": {
          "base_uri": "https://localhost:8080/",
          "height": 36
        }
      },
      "source": [
        "a = 5\n",
        "b = 3\n",
        "a**b   # 5를 세제곱 => 125"
      ],
      "execution_count": 0,
      "outputs": [
        {
          "output_type": "execute_result",
          "data": {
            "text/plain": [
              "125"
            ]
          },
          "metadata": {
            "tags": []
          },
          "execution_count": 2
        }
      ]
    },
    {
      "cell_type": "markdown",
      "metadata": {
        "id": "PRuTTxRijkRa",
        "colab_type": "text"
      },
      "source": [
        "### 문제1. [설명]\n",
        "> a**b는 a를 b만큼 제곱하는 것이다.\n",
        "> - a=5  b=3 => 5**3 이므로 5를 세제곱하면 125이다.\n"
      ]
    },
    {
      "cell_type": "markdown",
      "metadata": {
        "id": "R7wHcfhwd3zR",
        "colab_type": "text"
      },
      "source": [
        "### 문제2."
      ]
    },
    {
      "cell_type": "markdown",
      "metadata": {
        "id": "v9GoO8czd7ur",
        "colab_type": "text"
      },
      "source": [
        "> 다음 문자열 a에 대하여 슬라이싱을 한 결과는?      \n",
        "> a= \"Life is too short, you need Python!\"                            \n",
        "> a[-16:-8]                         "
      ]
    },
    {
      "cell_type": "code",
      "metadata": {
        "id": "xrp9poAkcnm9",
        "colab_type": "code",
        "outputId": "d035eb45-5824-4b74-f833-43d42c8c1d63",
        "colab": {
          "base_uri": "https://localhost:8080/",
          "height": 36
        }
      },
      "source": [
        "a= \"Life is too short, you need Python!\"                            \n",
        "a[-16:-8]  # -16 <= index < -8 이므로 'you need'가 출력된다."
      ],
      "execution_count": 0,
      "outputs": [
        {
          "output_type": "execute_result",
          "data": {
            "text/plain": [
              "'you need'"
            ]
          },
          "metadata": {
            "tags": []
          },
          "execution_count": 4
        }
      ]
    },
    {
      "cell_type": "markdown",
      "metadata": {
        "id": "zY7c-Wb9jn_e",
        "colab_type": "text"
      },
      "source": [
        "### 문제2. [설명]\n",
        "> a[-16:-8]는 -16 <= index < -8 이므로 'you need'가 출력된다."
      ]
    },
    {
      "cell_type": "markdown",
      "metadata": {
        "id": "AX8s3ncee3nV",
        "colab_type": "text"
      },
      "source": [
        "### 문제3."
      ]
    },
    {
      "cell_type": "markdown",
      "metadata": {
        "id": "VndgbFPPe6Kv",
        "colab_type": "text"
      },
      "source": [
        "> 다음 list a의 인덱싱 결과는?       \n",
        ">> a = [1, 2, (3, 4), ['a', 'b', ['My', 'Life', 'Good']]]             \n",
        ">> a[3][-1][0]        "
      ]
    },
    {
      "cell_type": "code",
      "metadata": {
        "id": "d1__ymHKeacR",
        "colab_type": "code",
        "outputId": "ab563e51-7bbe-4627-ded4-753fad407a85",
        "colab": {
          "base_uri": "https://localhost:8080/",
          "height": 36
        }
      },
      "source": [
        "a = [1, 2, (3, 4), ['a', 'b', ['My', 'Life', 'Good']]]             \n",
        "a[3][-1][0] "
      ],
      "execution_count": 0,
      "outputs": [
        {
          "output_type": "execute_result",
          "data": {
            "text/plain": [
              "'My'"
            ]
          },
          "metadata": {
            "tags": []
          },
          "execution_count": 5
        }
      ]
    },
    {
      "cell_type": "markdown",
      "metadata": {
        "id": "ggt9KHiMjrOT",
        "colab_type": "text"
      },
      "source": [
        "### 문제3. [설명]\n",
        ">a[3]은 ['a', 'b', ['My', 'Life', 'Good']]이고, a[3][-1]은 ['My', 'Life', 'Good']이다.                                           \n",
        "> 그러므로 a[3][-1][0] 는 'My'가 출력된다.  "
      ]
    },
    {
      "cell_type": "markdown",
      "metadata": {
        "id": "upoqxVrWhfLk",
        "colab_type": "text"
      },
      "source": [
        "### 문제4.\n",
        "> 다음 tuple t1의 슬라이싱 결과는?\n",
        ">> t1 = (0, 1, \"s\", \"t\",\"u\")              \n",
        ">> t1[2:-2]"
      ]
    },
    {
      "cell_type": "code",
      "metadata": {
        "id": "RiasE6Z2ftRT",
        "colab_type": "code",
        "outputId": "64139417-bc5c-496d-ab7d-c91897233f48",
        "colab": {
          "base_uri": "https://localhost:8080/",
          "height": 36
        }
      },
      "source": [
        "t1 = (0, 1, \"s\", \"t\",\"u\")              \n",
        "t1[2:-2]"
      ],
      "execution_count": 0,
      "outputs": [
        {
          "output_type": "execute_result",
          "data": {
            "text/plain": [
              "('s',)"
            ]
          },
          "metadata": {
            "tags": []
          },
          "execution_count": 6
        }
      ]
    },
    {
      "cell_type": "markdown",
      "metadata": {
        "id": "y6kf0LOBiEpp",
        "colab_type": "text"
      },
      "source": [
        "### 문제4. [설명]\n",
        "> 요소가 하나뿐인 객체를 괄호로 싸기만 하고 뒤에 콤마를 포함하지 않는 경우, 튜플이 아니라 정수형(int.)자료형이 된다. \n",
        "그러므로 튜플의 슬라이싱의 결과값은 요소가 하나만 있을 때 반드시 콤마(,)를 포함해야 한다.\n",
        "> - t1[2:-2]는 2번 인덱스인 's'만 포함하고 , 튜플 구조이므로 결과는 ('s',)이다."
      ]
    },
    {
      "cell_type": "markdown",
      "metadata": {
        "id": "Ob9Xb7Ptj1bt",
        "colab_type": "text"
      },
      "source": [
        "### 문제5.\n",
        "> 다음 bool 값 출력 중 정확한 것은?                                             \n",
        "> - bool([0, 1, 2]), bool([0]), bool((0)), bool((0,))"
      ]
    },
    {
      "cell_type": "code",
      "metadata": {
        "id": "oLPQ1kLVj0_D",
        "colab_type": "code",
        "outputId": "696440bc-c5c9-441a-9105-8de333c93fda",
        "colab": {
          "base_uri": "https://localhost:8080/",
          "height": 36
        }
      },
      "source": [
        "bool([0, 1, 2]), bool([0]), bool((0)), bool((0,))"
      ],
      "execution_count": 0,
      "outputs": [
        {
          "output_type": "execute_result",
          "data": {
            "text/plain": [
              "(True, True, False, True)"
            ]
          },
          "metadata": {
            "tags": []
          },
          "execution_count": 35
        }
      ]
    },
    {
      "cell_type": "markdown",
      "metadata": {
        "id": "2X72Asivke48",
        "colab_type": "text"
      },
      "source": [
        "### 문제5. [설명]\n",
        "\n",
        "> - bool([0, 1, 2])와 bool([0])은 각각 [0, 1, 2],[0]을 요소값으로 가진 list 구조이므로 True이다. \n",
        "> - bool((0))은 bool(0)과 이므로 False 이다.\n",
        "> - bool((0,))은 요소값을 하나만 가진 튜플 구조이므로 True 이다."
      ]
    },
    {
      "cell_type": "markdown",
      "metadata": {
        "id": "uuNW38Mll2Yg",
        "colab_type": "text"
      },
      "source": [
        "### 중간고사 2 (1~5)"
      ]
    },
    {
      "cell_type": "markdown",
      "metadata": {
        "id": "pyq8vGgWmBFP",
        "colab_type": "text"
      },
      "source": [
        "### 문제1.\n",
        "> 다음 조건문을 1줄 코드로 변경하시오.        \n",
        "\n",
        "\n",
        "\n",
        "```\n",
        "score = 80  \n",
        "if score > = 60:\n",
        "     message = \"succes\"\n",
        "else:\n",
        "     message = \"failure\"\n",
        "\n",
        "```\n"
      ]
    },
    {
      "cell_type": "code",
      "metadata": {
        "id": "BhRktcThiCX5",
        "colab_type": "code",
        "outputId": "39765531-00bf-4257-afe6-9edad81ae924",
        "colab": {
          "base_uri": "https://localhost:8080/",
          "height": 55
        }
      },
      "source": [
        "score = 80  \n",
        "if score >= 60:\n",
        "   message = \"succes\"\n",
        "else:\n",
        "   message = \"failure\"\n",
        "\n",
        "print(message)\n",
        "\n",
        "score =50\n",
        "message = \"succes\" if score>=60 else \"failure\"\n",
        "print(message)"
      ],
      "execution_count": 0,
      "outputs": [
        {
          "output_type": "stream",
          "text": [
            "succes\n",
            "failure\n"
          ],
          "name": "stdout"
        }
      ]
    },
    {
      "cell_type": "markdown",
      "metadata": {
        "id": "2AM8qHnPnUcL",
        "colab_type": "text"
      },
      "source": [
        "### 문제1. [설명]\n",
        "> 주어진 코드에서 if score >= 60: 은 score 값이 60보다 크거나 같은지 비교한 뒤, 조건식을 만족하면 \"succes\"를 message에 대입하여 print가 실행되어 \"succes\"가 출력된다. score 값이 if score >= 60:의 조건에 맞지 않으면 \"failure\"가 출력된다.             \n",
        "> >한 줄 코드 => message = \"succes\" if score>=60 else \"failure\"\n",
        "> - 한줄 코드에서 조건식 if score>=60 은\n",
        "score 가 60보다 크거나 같으면 조건식을 만족하는 것이고 \"succes\"을 출력한다.                                    조건이 맞지 않으면 else를 통해 \"failure\"라는 값을 출력한다."
      ]
    },
    {
      "cell_type": "markdown",
      "metadata": {
        "id": "VUsEmSlWrtoj",
        "colab_type": "text"
      },
      "source": [
        "### 문제2.\n",
        "> 다음 코드의 실행 결과는?\n",
        "\n",
        "\n",
        "```\n",
        "games = [\"A\", \"B\", \"C\"]\n",
        "\n",
        "for cnt in range(len(games)):\n",
        "    print(cnt, games[cnt], end=',')\n",
        "```\n",
        "\n"
      ]
    },
    {
      "cell_type": "code",
      "metadata": {
        "id": "36XLkA8BnEun",
        "colab_type": "code",
        "outputId": "1b3056dc-0eaf-489d-a59f-64b6a1175398",
        "colab": {
          "base_uri": "https://localhost:8080/",
          "height": 36
        }
      },
      "source": [
        "games = [\"A\", \"B\", \"C\"]\n",
        "\n",
        "for cnt in range(len(games)):\n",
        "    print(cnt, games[cnt], end=',')"
      ],
      "execution_count": 0,
      "outputs": [
        {
          "output_type": "stream",
          "text": [
            "0 A,1 B,2 C,"
          ],
          "name": "stdout"
        }
      ]
    },
    {
      "cell_type": "code",
      "metadata": {
        "id": "oj0XW9c8fJuE",
        "colab_type": "code",
        "outputId": "1c70579c-823d-4df2-8d41-7603851695c6",
        "colab": {
          "base_uri": "https://localhost:8080/",
          "height": 55
        }
      },
      "source": [
        "a = range(3)\n",
        "print(a)\n",
        "list(a)"
      ],
      "execution_count": 0,
      "outputs": [
        {
          "output_type": "stream",
          "text": [
            "range(0, 3)\n"
          ],
          "name": "stdout"
        },
        {
          "output_type": "execute_result",
          "data": {
            "text/plain": [
              "[0, 1, 2]"
            ]
          },
          "metadata": {
            "tags": []
          },
          "execution_count": 3
        }
      ]
    },
    {
      "cell_type": "markdown",
      "metadata": {
        "id": "YBOKYQHCs6-C",
        "colab_type": "text"
      },
      "source": [
        "### 문제2. [설명]\n",
        "> for cnt in range(len(games)):              \n",
        "> range(len(games))에서 len(games)는 입력값 games의 요소 전체 개수를 리턴하는 함수로 3을 리턴한다.     \n",
        "> range(3)은 range(0,3)과 같고 0,1,2를 변수 cnt에 대입하고,                \n",
        " >for문이 순회할 횟수가 3번으로 정해진다. \n",
        "\n",
        "> print(cnt, games[cnt], end=',')              \n",
        ">>print문이 3번 실행되고 cnt는 range(0,3)의 0,1,2를 순서대로 출력하고, games[cnt]는 인덱스 games[0],games[1],games[2]의 요소값을 순서대로 출력한다. end=','는 줄을 바꾸지 않고 콤마(,)를 붙여준다.\n",
        "\n",
        "> 결과는 0 A,1 B,2 C, 가 출력된다."
      ]
    },
    {
      "cell_type": "markdown",
      "metadata": {
        "id": "CbKgDsyXjSbB",
        "colab_type": "text"
      },
      "source": [
        "### 문제3.\n",
        "> 다음의 결과가 출력되지 않는 것은?          \n",
        "> - 'I ate 10 apples, so I was sick for three days.'\n",
        "\n",
        "\n",
        "```\n",
        "#code start\n",
        "number = 10\n",
        "day = \"\"three \n",
        "```\n",
        "\n"
      ]
    },
    {
      "cell_type": "code",
      "metadata": {
        "id": "26rvM3gLs2rT",
        "colab_type": "code",
        "colab": {}
      },
      "source": [
        "number = 10\n",
        "day = \"three\" "
      ],
      "execution_count": 0,
      "outputs": []
    },
    {
      "cell_type": "code",
      "metadata": {
        "id": "yrYS1pc9D9hM",
        "colab_type": "code",
        "outputId": "afd492e6-b9b7-4c25-8173-0541049a61ff",
        "colab": {
          "base_uri": "https://localhost:8080/",
          "height": 36
        }
      },
      "source": [
        "\"I ate {0} apples, so I was sick for {1} days.\".format(10,day)"
      ],
      "execution_count": 0,
      "outputs": [
        {
          "output_type": "execute_result",
          "data": {
            "text/plain": [
              "'I ate 10 apples, so I was sick for three days.'"
            ]
          },
          "metadata": {
            "tags": []
          },
          "execution_count": 38
        }
      ]
    },
    {
      "cell_type": "code",
      "metadata": {
        "id": "cnd55VabD4Hw",
        "colab_type": "code",
        "outputId": "a15d25e5-86a0-4ed6-b814-27cfa3217bc3",
        "colab": {
          "base_uri": "https://localhost:8080/",
          "height": 36
        }
      },
      "source": [
        "f\"I ate {number} apples, so I was sick for {day} days.\""
      ],
      "execution_count": 0,
      "outputs": [
        {
          "output_type": "execute_result",
          "data": {
            "text/plain": [
              "'I ate 10 apples, so I was sick for three days.'"
            ]
          },
          "metadata": {
            "tags": []
          },
          "execution_count": 39
        }
      ]
    },
    {
      "cell_type": "code",
      "metadata": {
        "id": "VnxnXe99EIoS",
        "colab_type": "code",
        "outputId": "4d3af06f-f89c-4862-ba38-13d1ac8b2a05",
        "colab": {
          "base_uri": "https://localhost:8080/",
          "height": 36
        }
      },
      "source": [
        "f\"I ate {number} apples, so I was sick for {'three'} days.\""
      ],
      "execution_count": 0,
      "outputs": [
        {
          "output_type": "execute_result",
          "data": {
            "text/plain": [
              "'I ate 10 apples, so I was sick for three days.'"
            ]
          },
          "metadata": {
            "tags": []
          },
          "execution_count": 40
        }
      ]
    },
    {
      "cell_type": "code",
      "metadata": {
        "id": "991jLcJmEVtO",
        "colab_type": "code",
        "outputId": "c30e701a-5656-456e-e487-fc635869b1d3",
        "colab": {
          "base_uri": "https://localhost:8080/",
          "height": 139
        }
      },
      "source": [
        "\"I ate {0} apples, so I was sick for {1} days.\".format(number=10,day)"
      ],
      "execution_count": 0,
      "outputs": [
        {
          "output_type": "error",
          "ename": "SyntaxError",
          "evalue": "ignored",
          "traceback": [
            "\u001b[0;36m  File \u001b[0;32m\"<ipython-input-41-d10eed8e509c>\"\u001b[0;36m, line \u001b[0;32m1\u001b[0m\n\u001b[0;31m    \"I ate {0} apples, so I was sick for {1} days.\".format(number=10,day)\u001b[0m\n\u001b[0m                                                                    ^\u001b[0m\n\u001b[0;31mSyntaxError\u001b[0m\u001b[0;31m:\u001b[0m positional argument follows keyword argument\n"
          ]
        }
      ]
    },
    {
      "cell_type": "code",
      "metadata": {
        "id": "FTeiqzIAG9Aw",
        "colab_type": "code",
        "outputId": "5dbcf551-4bba-421d-9bb1-7ae428b18457",
        "colab": {
          "base_uri": "https://localhost:8080/",
          "height": 36
        }
      },
      "source": [
        "\"I ate {0} apples, so I was sick for {day} days.\".format(10,day=\"three\")"
      ],
      "execution_count": 0,
      "outputs": [
        {
          "output_type": "execute_result",
          "data": {
            "text/plain": [
              "'I ate 10 apples, so I was sick for three days.'"
            ]
          },
          "metadata": {
            "tags": []
          },
          "execution_count": 6
        }
      ]
    },
    {
      "cell_type": "markdown",
      "metadata": {
        "id": "uGT89jHwEjbs",
        "colab_type": "text"
      },
      "source": [
        "### 문제3. [설명]\n",
        "\n",
        "> - 출력되지 않는 코드\n",
        "```\n",
        "\"I ate {0} apples, so I was sick for {1} days.\".format(number=10,day)\n",
        "```  \n",
        "> - 오류\n",
        "```\n",
        "SyntaxError: positional argument follows keyword argument\n",
        "```\n",
        "\n",
        "\n",
        "> > - 오류 발생 이유 \n",
        "\n",
        ">> 두 가지 형태의 인자를 한 함수에 혼합해서 사용할 수 있다. 하지만 keyword arguments(키워드 인자)를 positional arguments(위치 인자)보다 먼저 사용하면 SyntaxError가 발생한다.         \n",
        "\n",
        ">> 오류가 난 코드에서 사용된 인자는 키워드 인자(number=10)와 위치 인자(day)이다. \n",
        "키워드 인자는 순서가 아니라 각 인자에 대입된 값을 함수 내에 전달해 준다. \n",
        "하지만 키워드 인자와 위치 인자를 혼합해서 사용할 때 한 가지 주의할 점은 위치 인자를 입력하는 부분에서는 순서를 지켜줘야한다는 것이다. 왜냐하면 키워드 인자가 나오는 순간부터 순서를 알 수 없게 되기 때문이다. 그래서 위치 인자가 키워트 인자 앞에 나와야하고, 이 위치 인자들의 순서는 지켜져야한다. \n",
        "\n",
        ">> 두 가지 형태의 인자를 혼합하려며 코드는 다음과 같아야 한다.\n",
        ">> - 오류 수정 코드\n",
        "```\n",
        "\"I ate {0} apples, so I was sick for {day} days.\".format(number,day=\"three\")\n",
        "```\n",
        "\n",
        "\n"
      ]
    },
    {
      "cell_type": "markdown",
      "metadata": {
        "id": "WX8K8zu6RR7y",
        "colab_type": "text"
      },
      "source": [
        "### 문제4.\n",
        "> 리스트 내포를 사용해 1부터 1000이하의 자연수 중 5의 배수의 합을 구하는 한 줄 코드를 작성하시오.\n",
        "> - 5 + 10 + 15 + 20 + 25 + ... + 955 + 960 + 965 + 970 + 975 + ... + 995 + 1000 = ?"
      ]
    },
    {
      "cell_type": "code",
      "metadata": {
        "id": "oSbnTZ9nJXrG",
        "colab_type": "code",
        "outputId": "3b87e8b2-4c35-46d7-f6bd-d6ef5661bd77",
        "colab": {
          "base_uri": "https://localhost:8080/",
          "height": 36
        }
      },
      "source": [
        "sum([num for num in range(1,1001) if num % 5 == 0])"
      ],
      "execution_count": 0,
      "outputs": [
        {
          "output_type": "execute_result",
          "data": {
            "text/plain": [
              "100500"
            ]
          },
          "metadata": {
            "tags": []
          },
          "execution_count": 51
        }
      ]
    },
    {
      "cell_type": "code",
      "metadata": {
        "id": "a6fTc8fNVRfi",
        "colab_type": "code",
        "colab": {}
      },
      "source": [
        "list(range(1,1001)) # 1부터 1000의 값을 확인"
      ],
      "execution_count": 0,
      "outputs": []
    },
    {
      "cell_type": "markdown",
      "metadata": {
        "id": "57QTlUEmSjxl",
        "colab_type": "text"
      },
      "source": [
        "### 문제4. [설명]\n",
        "> 요소값의 합을 구하는 sum을 사용하여 5의 배수의 합을 구한다.            \n",
        "> range를 이용하면 큰 수의 범위에 대해서도 for문을 쉽게 작성할 수 있다.        \n",
        "range(1,1001)은 1부터 1000까지의 값이고, 1부터 1000에 해당하는 범위 값을 반복 가능한 객체로 돌려준다.                                                                     for 문에서 필요할 때 마다 num이라는 변수가 바인딩해서 사용하게 된다.               \n",
        ">  if num % 5 == 0 으로 5이 배수를 조건으로 하여 조건문에서 나온 값의 합을 구한다.\n",
        "> - 결과 값= 100500\n"
      ]
    },
    {
      "cell_type": "markdown",
      "metadata": {
        "id": "-bFx5SECWspN",
        "colab_type": "text"
      },
      "source": [
        "### 문제5.\n",
        "> 4개 과목의 평균 성적을 구하시오.                                              \n",
        "> - [a],[b]에 적합한 코드는?\n",
        "> \n",
        "\n",
        "```\n",
        "subjects = ['python', 'english', 'math', 'science']\n",
        "scores = [88, 77, 66, 95]\n",
        "total = 0\n",
        "\n",
        "for subject, score in [a]______(subjects, scores):\n",
        "    total += score\n",
        "    print(subject, score)\n",
        "\n",
        "print(\"평균 점수 = {0}\".format([b]______))\n",
        "```\n",
        "\n"
      ]
    },
    {
      "cell_type": "code",
      "metadata": {
        "id": "A80UjP3uSgiY",
        "colab_type": "code",
        "outputId": "860626bb-7681-47a9-9dbe-77d29b8ee827",
        "colab": {
          "base_uri": "https://localhost:8080/",
          "height": 111
        }
      },
      "source": [
        "subjects = ['python', 'english', 'math', 'science']\n",
        "scores = [88, 77, 66, 95]\n",
        "total = 0\n",
        " \n",
        "for subject, score in zip(subjects, scores):\n",
        "    total += score\n",
        "    print(subject, score)\n",
        " \n",
        "print(\"평균 점수 = {0}\".format(total/len(subjects)))"
      ],
      "execution_count": 0,
      "outputs": [
        {
          "output_type": "stream",
          "text": [
            "python 88\n",
            "english 77\n",
            "math 66\n",
            "science 95\n",
            "평균 점수 = 81.5\n"
          ],
          "name": "stdout"
        }
      ]
    },
    {
      "cell_type": "markdown",
      "metadata": {
        "id": "M8OCYrxrZA4o",
        "colab_type": "text"
      },
      "source": [
        "### 문제5. [설명]\n",
        "> [a]= zip \n",
        "> - zip()은 내장함수로 같은 길이의 리스트를 같은 인덱스끼리 잘라서 리스트로 반환을 해주는 역할을 한다.\n",
        "동일한 list 형식인 (subject, score) 두 변수를 묶어주는 역할을 하기 때문에 [a]는 zip이다.                                    \n",
        "\n",
        "\n",
        "> [b] = (total/len(subjects)        \n",
        "> - for 문에서 total이라는 변수가 scores의 요소값을 모두 더해서 총 점수를 구했다. subjects의 요소값 길이를 구하기 위해 len()을 이용하고 나온 값을 total에 나누어주면 평균 점수를 구할 수 있다.\n",
        "\n",
        ">> - 답 = zip (total/len(subjets))"
      ]
    }
  ]
}